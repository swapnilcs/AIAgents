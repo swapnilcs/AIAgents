{
 "cells": [
  {
   "cell_type": "markdown",
   "id": "e42aef63",
   "metadata": {},
   "source": [
    "## Implementing simple chatbot using langgraph"
   ]
  },
  {
   "cell_type": "code",
   "execution_count": 11,
   "id": "2603e82f",
   "metadata": {},
   "outputs": [],
   "source": [
    "from typing_extensions import TypedDict\n",
    "import random\n",
    "from typing import Literal\n",
    "from IPython.display import Image,display\n",
    "from langgraph.graph import StateGraph,START,END\n",
    "from typing import Annotated\n",
    "from langgraph.graph.message import add_messages\n",
    "import os\n",
    "from dotenv import load_dotenv\n",
    "from langchain_openai import ChatOpenAI"
   ]
  },
  {
   "cell_type": "code",
   "execution_count": 7,
   "id": "880b0cb7",
   "metadata": {},
   "outputs": [],
   "source": [
    "class State(TypedDict):\n",
    "    messages : Annotated[list, add_messages]"
   ]
  },
  {
   "cell_type": "code",
   "execution_count": null,
   "id": "3c293d97",
   "metadata": {},
   "outputs": [
    {
     "data": {
      "text/plain": [
       "True"
      ]
     },
     "execution_count": 9,
     "metadata": {},
     "output_type": "execute_result"
    }
   ],
   "source": [
    "# read api key\n",
    "load_dotenv()\n",
    "os.environ[\"OPENAI_API_KEY\"]= os.getenv(\"OPENAI_API_KEY\")"
   ]
  },
  {
   "cell_type": "code",
   "execution_count": 12,
   "id": "811dfaf8",
   "metadata": {},
   "outputs": [
    {
     "data": {
      "text/plain": [
       "AIMessage(content=\"Hello! I'm just a program, so I don't have feelings, but I'm here and ready to help you. How can I assist you today?\", additional_kwargs={'refusal': None}, response_metadata={'token_usage': {'completion_tokens': 29, 'prompt_tokens': 13, 'total_tokens': 42, 'completion_tokens_details': {'accepted_prediction_tokens': 0, 'audio_tokens': 0, 'reasoning_tokens': 0, 'rejected_prediction_tokens': 0}, 'prompt_tokens_details': {'audio_tokens': 0, 'cached_tokens': 0}}, 'model_name': 'gpt-4o-mini-2024-07-18', 'system_fingerprint': 'fp_34a54ae93c', 'id': 'chatcmpl-C0O7yE5nKb4rftA0SJWPNNZJ1U2vl', 'service_tier': 'default', 'finish_reason': 'stop', 'logprobs': None}, id='run--dce3a2ad-4516-47e7-8424-0e431fd0680b-0', usage_metadata={'input_tokens': 13, 'output_tokens': 29, 'total_tokens': 42, 'input_token_details': {'audio': 0, 'cache_read': 0}, 'output_token_details': {'audio': 0, 'reasoning': 0}})"
      ]
     },
     "execution_count": 12,
     "metadata": {},
     "output_type": "execute_result"
    }
   ],
   "source": [
    "llm = ChatOpenAI(model='gpt-4o-mini')\n",
    "llm.invoke(\"Hi, How are you?\")"
   ]
  },
  {
   "cell_type": "markdown",
   "id": "b899332e",
   "metadata": {},
   "source": [
    "### Start creating nodes"
   ]
  },
  {
   "cell_type": "code",
   "execution_count": 14,
   "id": "ac226aeb",
   "metadata": {},
   "outputs": [],
   "source": [
    "def superbot(state:State):\n",
    "    return {\"messages\":llm.invoke(state[\"messages\"])}"
   ]
  },
  {
   "cell_type": "markdown",
   "id": "f1e7e8c6",
   "metadata": {},
   "source": [
    "### Create graph"
   ]
  },
  {
   "cell_type": "code",
   "execution_count": 15,
   "id": "102c2146",
   "metadata": {},
   "outputs": [
    {
     "data": {
      "text/plain": [
       "<langgraph.graph.state.StateGraph at 0x10ad578c0>"
      ]
     },
     "execution_count": 15,
     "metadata": {},
     "output_type": "execute_result"
    }
   ],
   "source": [
    "# build graph\n",
    "graph = StateGraph(State)\n",
    "\n",
    "## adding nodes\n",
    "graph.add_node(\"superbot\",superbot)\n",
    "\n",
    "## Add edges\n",
    "graph.add_edge(START,\"superbot\")\n",
    "graph.add_edge(\"superbot\",END)"
   ]
  },
  {
   "cell_type": "code",
   "execution_count": 16,
   "id": "da235d43",
   "metadata": {},
   "outputs": [
    {
     "data": {
      "image/png": "[encoded data removed]",
      "text/plain": [
       "<IPython.core.display.Image object>"
      ]
     },
     "metadata": {},
     "output_type": "display_data"
    }
   ],
   "source": [
    "# compile the graph\n",
    "graph_builder = graph.compile()\n",
    "\n",
    "# view the graph\n",
    "display(Image(graph_builder.get_graph().draw_mermaid_png()))"
   ]
  },
  {
   "cell_type": "code",
   "execution_count": 17,
   "id": "9e6c245c",
   "metadata": {},
   "outputs": [
    {
     "data": {
      "text/plain": [
       "{'messages': [HumanMessage(content='Who won the FIFA Club World Cup this year?', additional_kwargs={}, response_metadata={}, id='7d1072cb-f12f-43cc-b710-f09200f817dd'),\n",
       "  AIMessage(content=\"I'm sorry, but I don't have information on events or outcomes that occurred after October 2023. You might want to check the latest sports news or the official FIFA website for the most current information on the FIFA Club World Cup.\", additional_kwargs={'refusal': None}, response_metadata={'token_usage': {'completion_tokens': 46, 'prompt_tokens': 17, 'total_tokens': 63, 'completion_tokens_details': {'accepted_prediction_tokens': 0, 'audio_tokens': 0, 'reasoning_tokens': 0, 'rejected_prediction_tokens': 0}, 'prompt_tokens_details': {'audio_tokens': 0, 'cached_tokens': 0}}, 'model_name': 'gpt-4o-mini-2024-07-18', 'system_fingerprint': 'fp_34a54ae93c', 'id': 'chatcmpl-C0OJci0LWJC9oIzLvKkzjLBqIf3zV', 'service_tier': 'default', 'finish_reason': 'stop', 'logprobs': None}, id='run--b2fa7984-96f7-4e77-9c97-e5a93c05a962-0', usage_metadata={'input_tokens': 17, 'output_tokens': 46, 'total_tokens': 63, 'input_token_details': {'audio': 0, 'cache_read': 0}, 'output_token_details': {'audio': 0, 'reasoning': 0}})]}"
      ]
     },
     "execution_count": 17,
     "metadata": {},
     "output_type": "execute_result"
    }
   ],
   "source": [
    "graph_builder.invoke({\"messages\":\"Who won the FIFA Club World Cup this year?\"})"
   ]
  },
  {
   "cell_type": "code",
   "execution_count": 18,
   "id": "9d92321b",
   "metadata": {},
   "outputs": [
    {
     "data": {
      "text/plain": [
       "{'messages': [HumanMessage(content='Microsoft AutoGen or Langgrapg, which is the best framework for Agentic AI ? ', additional_kwargs={}, response_metadata={}, id='33c3672d-c123-445a-b96e-2ed935224fe0'),\n",
       "  AIMessage(content='As of my last knowledge update in October 2023, both Microsoft AutoGen and Langchain (which I believe you meant by \"Langgrapg\") are frameworks that support the development of agent-based AI applications, but they serve slightly different purposes and have different strengths.\\n\\n### Microsoft AutoGen\\n- **Purpose**: Designed primarily for automating tasks using AI and integrating with Microsoft\\'s ecosystem. It leverages Azure services and integrates well with other Microsoft tools.\\n- **Features**: Focused on multi-agent interaction, making it suitable for complex workflows that require collaboration between various AI agents.\\n- **Use Cases**: Ideal for enterprise applications, automating business processes, or integrating with existing Microsoft software.\\n\\n### Langchain\\n- **Purpose**: A flexible framework that facilitates the development of applications using language models. It provides tools for building language model-powered applications and managing interactions with external data sources and APIs.\\n- **Features**: Strong support for chaining together different tasks and actions, extensive integration with various data stores, and tools for handling conversation state, memory management, and more.\\n- **Use Cases**: Particularly useful for chatbots, conversational agents, and applications requiring custom natural language processing features.\\n\\n### Choosing the Best Framework\\nThe right choice between Microsoft AutoGen and Langchain will depend on your specific needs:\\n- If your project heavily relies on Microsoft services or requires robust multi-agent collaboration, **Microsoft AutoGen** may be the better choice.\\n- If you need more flexibility in building language model applications and require extensive customization or integration with diverse data sources, **Langchain** might be more appropriate.\\n\\nUltimately, consider the specific requirements of your project, your team\\'s familiarity with each framework, and how well they align with your goals in developing agentic AI applications.', additional_kwargs={'refusal': None}, response_metadata={'token_usage': {'completion_tokens': 354, 'prompt_tokens': 27, 'total_tokens': 381, 'completion_tokens_details': {'accepted_prediction_tokens': 0, 'audio_tokens': 0, 'reasoning_tokens': 0, 'rejected_prediction_tokens': 0}, 'prompt_tokens_details': {'audio_tokens': 0, 'cached_tokens': 0}}, 'model_name': 'gpt-4o-mini-2024-07-18', 'system_fingerprint': 'fp_34a54ae93c', 'id': 'chatcmpl-C0OKl3V8jV0tYpP45JIMuL9GWMNub', 'service_tier': 'default', 'finish_reason': 'stop', 'logprobs': None}, id='run--f6b45a7f-4c58-405f-9ffc-597773b31620-0', usage_metadata={'input_tokens': 27, 'output_tokens': 354, 'total_tokens': 381, 'input_token_details': {'audio': 0, 'cache_read': 0}, 'output_token_details': {'audio': 0, 'reasoning': 0}})]}"
      ]
     },
     "execution_count": 18,
     "metadata": {},
     "output_type": "execute_result"
    }
   ],
   "source": [
    "graph_builder.invoke({\"messages\":\"Microsoft AutoGen or Langgrapg, which is the best framework for Agentic AI ? \"})"
   ]
  },
  {
   "cell_type": "markdown",
   "id": "c56439ae",
   "metadata": {},
   "source": [
    "### Streaming responses"
   ]
  },
  {
   "cell_type": "code",
   "execution_count": 20,
   "id": "e1e1b64b",
   "metadata": {},
   "outputs": [
    {
     "name": "stdout",
     "output_type": "stream",
     "text": [
      "{'superbot': {'messages': AIMessage(content=\"Hello! I'm just a program, so I don't have feelings, but I'm here and ready to help you. How can I assist you today?\", additional_kwargs={'refusal': None}, response_metadata={'token_usage': {'completion_tokens': 29, 'prompt_tokens': 13, 'total_tokens': 42, 'completion_tokens_details': {'accepted_prediction_tokens': 0, 'audio_tokens': 0, 'reasoning_tokens': 0, 'rejected_prediction_tokens': 0}, 'prompt_tokens_details': {'audio_tokens': 0, 'cached_tokens': 0}}, 'model_name': 'gpt-4o-mini-2024-07-18', 'system_fingerprint': 'fp_34a54ae93c', 'id': 'chatcmpl-C0OT0K9xPblVs0ZJHe8H4XynhBO9m', 'service_tier': 'default', 'finish_reason': 'stop', 'logprobs': None}, id='run--9451ddcc-5c6f-47f8-8a39-108f1b574b11-0', usage_metadata={'input_tokens': 13, 'output_tokens': 29, 'total_tokens': 42, 'input_token_details': {'audio': 0, 'cache_read': 0}, 'output_token_details': {'audio': 0, 'reasoning': 0}})}}\n"
     ]
    }
   ],
   "source": [
    "for event in graph_builder.stream({\"messages\":\"Hi, How are you?\"}):\n",
    "    print(event)"
   ]
  },
  {
   "cell_type": "code",
   "execution_count": 24,
   "id": "5dffb96a",
   "metadata": {},
   "outputs": [
    {
     "name": "stdout",
     "output_type": "stream",
     "text": [
      "{'messages': [HumanMessage(content='Messi or Ronaldo who is the best?', additional_kwargs={}, response_metadata={}, id='c32bf995-5ea7-4d7f-bda7-ce5f816f724b')]}\n",
      "{'messages': [HumanMessage(content='Messi or Ronaldo who is the best?', additional_kwargs={}, response_metadata={}, id='c32bf995-5ea7-4d7f-bda7-ce5f816f724b'), AIMessage(content='The debate over who is the best between Lionel Messi and Cristiano Ronaldo is one of the most discussed topics in football (soccer) and often comes down to personal preference. Both players have had illustrious careers and have achieved incredible success, setting numerous records along the way.\\n\\n**Lionel Messi** is known for his dribbling ability, vision, and playmaking skills. His ability to score and assist, combined with his style of play, has earned him a reputation as one of the most naturally gifted players in history. He has spent the majority of his career at FC Barcelona before moving to Paris Saint-Germain and then Inter Miami. Messi has won multiple Ballon d\\'Or awards and has achieved significant success with his clubs and the Argentine national team, including winning the Copa América and the FIFA World Cup.\\n\\n**Cristiano Ronaldo**, on the other hand, is celebrated for his athleticism, goal-scoring prowess, and work ethic. He has been successful in multiple leagues, including the Premier League, La Liga, Serie A, and has also had an impactful stint with Manchester United, Real Madrid, and Juventus. Ronaldo has also won multiple Ballon d\\'Or awards and has achieved great success with his national team, including winning the UEFA European Championship and the UEFA Nations League with Portugal.\\n\\nUltimately, who is \"the best\" can depend on individual opinions, preferences for style of play, and what qualities one values in a football player. Many fans appreciate both players for their unique attributes and contributions to the game.', additional_kwargs={'refusal': None}, response_metadata={'token_usage': {'completion_tokens': 302, 'prompt_tokens': 16, 'total_tokens': 318, 'completion_tokens_details': {'accepted_prediction_tokens': 0, 'audio_tokens': 0, 'reasoning_tokens': 0, 'rejected_prediction_tokens': 0}, 'prompt_tokens_details': {'audio_tokens': 0, 'cached_tokens': 0}}, 'model_name': 'gpt-4o-mini-2024-07-18', 'system_fingerprint': 'fp_34a54ae93c', 'id': 'chatcmpl-C0OWzDoQtEpM2ZJdXSXmUyqcIqbHH', 'service_tier': 'default', 'finish_reason': 'stop', 'logprobs': None}, id='run--3ecf344b-7967-44d5-a1a1-7095133f51a2-0', usage_metadata={'input_tokens': 16, 'output_tokens': 302, 'total_tokens': 318, 'input_token_details': {'audio': 0, 'cache_read': 0}, 'output_token_details': {'audio': 0, 'reasoning': 0}})]}\n"
     ]
    }
   ],
   "source": [
    "for event in graph_builder.stream({\"messages\":\"Messi or Ronaldo who is the best?\"},stream_mode=\"values\"):\n",
    "    print(event)"
   ]
  },
  {
   "cell_type": "code",
   "execution_count": null,
   "id": "4b265aac",
   "metadata": {},
   "outputs": [],
   "source": []
  }
 ],
 "metadata": {
  "kernelspec": {
   "display_name": "swap",
   "language": "python",
   "name": "python3"
  },
  "language_info": {
   "codemirror_mode": {
    "name": "ipython",
    "version": 3
   },
   "file_extension": ".py",
   "mimetype": "text/x-python",
   "name": "python",
   "nbconvert_exporter": "python",
   "pygments_lexer": "ipython3",
   "version": "3.13.5"
  }
 },
 "nbformat": 4,
 "nbformat_minor": 5
}
